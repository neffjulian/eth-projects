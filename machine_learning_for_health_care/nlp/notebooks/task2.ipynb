{
 "cells": [
  {
   "cell_type": "code",
   "execution_count": null,
   "metadata": {},
   "outputs": [],
   "source": [
    "import os\n",
    "import sys\n",
    "import pandas as pd\n",
    "from sklearn.neighbors import KNeighborsClassifier\n",
    "from sklearn.neural_network import MLPClassifier\n",
    "from sklearn.tree import DecisionTreeClassifier\n",
    "from sklearn import metrics\n",
    "import numpy as np\n",
    "\n",
    "module_path = os.path.abspath(os.path.join('..'))\n",
    "if module_path not in sys.path:\n",
    "    sys.path.append(module_path)\n",
    "\n",
    "from src.dataset import PreprocessData, Word2Vec\n"
   ]
  },
  {
   "cell_type": "code",
   "execution_count": null,
   "metadata": {},
   "outputs": [],
   "source": [
    "# config\n",
    "data_dir = \"../data\"\n",
    "dataset = \"PubMed_20k_RCT\"\n",
    "\n",
    "lower = False\n",
    "stemming = False\n",
    "rem_stop_words = False\n",
    "lemmatisation = False\n",
    "\n",
    "preprocess = False"
   ]
  },
  {
   "cell_type": "code",
   "execution_count": null,
   "metadata": {},
   "outputs": [],
   "source": [
    "preprocesser = PreprocessData(data_dir=data_dir,\n",
    "                              dataset=dataset,\n",
    "                              lower=lower, \n",
    "                              rem_stop_words=rem_stop_words, \n",
    "                              stemming=stemming, \n",
    "                              lemmatisation=lemmatisation)\n",
    "dev, train, test = preprocesser.createFiles()"
   ]
  },
  {
   "cell_type": "code",
   "execution_count": null,
   "metadata": {},
   "outputs": [],
   "source": [
    "df = pd.concat([dev, train, test], ignore_index=True, axis=0)\n",
    "word2vec = Word2Vec(corpus_file = df[\"Sentences\"], \n",
    "                 vector_size = 1000, \n",
    "                 window = 10, \n",
    "                 min_count = 1, \n",
    "                 sg = 1)\n",
    "\n",
    "word2vec.setup()\n",
    "\n",
    "y_train = [word2vec.label_to_vec[label] for label in train[\"Labels\"]].tolist().values\n",
    "x_train = [word2vec.sentence_to_vector(sentence) for sentence in train[\"Sentences\"]].values\n",
    "\n",
    "y_test = [word2vec.label_to_vec[label] for label in test[\"Labels\"]].tolist().values\n",
    "x_test = [word2vec.sentence_to_vector(sentence) for sentence in test[\"Sentences\"]].values"
   ]
  },
  {
   "cell_type": "code",
   "execution_count": null,
   "metadata": {},
   "outputs": [],
   "source": [
    "def print_metrics(pred_test, y_test, pred_train, y_train):\n",
    "    print(\"test accuracy\", str(np.mean(pred_test == y_test)))\n",
    "    print(\"train accuracy\", str(np.mean(pred_train == y_train)))\n",
    "    print(\"\\n Metrics and Confusion \\n\")\n",
    "    print(metrics.confusion_matrix(y_test, pred_test))\n",
    "    print(metrics.classification_report(y_test, pred_test))"
   ]
  },
  {
   "cell_type": "code",
   "execution_count": null,
   "metadata": {},
   "outputs": [],
   "source": [
    "\n",
    "model = KNeighborsClassifier(n_neighbors = 25)\n",
    "model.fit(x_train, y_train)\n",
    "pred_train = model.predict(x_train)\n",
    "pred_test = model.predict(x_test)\n",
    "print_metrics(pred_test, y_test, pred_train, y_train)"
   ]
  },
  {
   "cell_type": "code",
   "execution_count": null,
   "metadata": {},
   "outputs": [],
   "source": [
    "\n",
    "model = DecisionTreeClassifier(max_depth = 25)\n",
    "model.fit(x_train, y_train)\n",
    "pred_train = model.predict(x_train)\n",
    "pred_test = model.predict(x_test)\n",
    "print_metrics(pred_test, y_test, pred_train, y_train)"
   ]
  },
  {
   "cell_type": "code",
   "execution_count": null,
   "metadata": {},
   "outputs": [],
   "source": [
    "model = MLPClassifier(max_iter=1)\n",
    "model.fit(x_train, y_train)\n",
    "pred_train = model.predict(x_train)\n",
    "pred_test = model.predict(x_test)\n",
    "print_metrics(pred_test, y_test, pred_train, y_train)"
   ]
  }
 ],
 "metadata": {
  "interpreter": {
   "hash": "be93715de5899200ec1536ffd5344e9eb0c4dcc461ca018b43a3bde095caa924"
  },
  "kernelspec": {
   "display_name": "Python 3.8.12 ('ml4h')",
   "language": "python",
   "name": "python3"
  },
  "language_info": {
   "codemirror_mode": {
    "name": "ipython",
    "version": 3
   },
   "file_extension": ".py",
   "mimetype": "text/x-python",
   "name": "python",
   "nbconvert_exporter": "python",
   "pygments_lexer": "ipython3",
   "version": "3.9.12"
  },
  "orig_nbformat": 4
 },
 "nbformat": 4,
 "nbformat_minor": 2
}
