{
 "cells": [
  {
   "cell_type": "code",
   "execution_count": 12,
   "metadata": {},
   "outputs": [],
   "source": [
    "import os\n",
    "import sys\n",
    "import pandas as pd\n",
    "import numpy as np\n",
    "from sklearn.preprocessing import LabelEncoder\n",
    "from sklearn.feature_selection import SelectKBest, chi2\n",
    "from sklearn.feature_extraction.text import TfidfVectorizer\n",
    "from sklearn.pipeline import Pipeline\n",
    "from sklearn.neighbors import KNeighborsClassifier\n",
    "from sklearn.tree import DecisionTreeClassifier\n",
    "from sklearn.neural_network import MLPClassifier\n",
    "from sklearn import metrics\n",
    "import seaborn as sns\n",
    "import matplotlib.pyplot as plt\n",
    "\n",
    "module_path = os.path.abspath(os.path.join('..'))\n",
    "if module_path not in sys.path:\n",
    "    sys.path.append(module_path)\n",
    "\n",
    "from src.dataset import PreprocessData"
   ]
  },
  {
   "cell_type": "markdown",
   "metadata": {},
   "source": [
    "# Experiment configuration"
   ]
  },
  {
   "cell_type": "code",
   "execution_count": 2,
   "metadata": {},
   "outputs": [],
   "source": [
    "# config\n",
    "data_dir = \"../data\"\n",
    "dataset = \"PubMed_20k_RCT\"\n",
    "\n",
    "lower = True\n",
    "stemming = True\n",
    "rem_stop_words = True\n",
    "lemmatisation = True\n",
    "\n",
    "preprocess = True"
   ]
  },
  {
   "cell_type": "markdown",
   "metadata": {},
   "source": [
    "# Preprocessing\n",
    "The dataset is preprocessed and stored for future training."
   ]
  },
  {
   "cell_type": "code",
   "execution_count": 3,
   "metadata": {},
   "outputs": [
    {
     "name": "stdout",
     "output_type": "stream",
     "text": [
      "Start preprocessing\n",
      "Finished preprocessing\n"
     ]
    }
   ],
   "source": [
    "preprocessor = PreprocessData(data_dir=data_dir, dataset=dataset, lower=lower, rem_stop_words=rem_stop_words, stemming=stemming, lemmatisation=lemmatisation)\n",
    "\n",
    "if preprocess:\n",
    "    df_dev, df_train, df_test = preprocessor.createFiles()\n",
    "else:\n",
    "    dataset_dir = os.path.join(data_dir, \"processed_\" + dataset)\n",
    "    df_dev = pd.read_csv(os.path.join(dataset_dir, \"dev.csv\"))\n",
    "    df_train = pd.read_csv(os.path.join(dataset_dir, \"train.csv\"))\n",
    "    df_test = pd.read_csv(os.path.join(dataset_dir, \"test.csv\"))\n",
    "\n",
    "label_encoder = LabelEncoder()\n",
    "y_train = label_encoder.fit_transform(df_train[\"labels\"])\n",
    "y_test = label_encoder.transform(df_test[\"labels\"])\n",
    "\n",
    "x_train = df_train[\"sentences\"]\n",
    "x_test = df_test[\"sentences\"]"
   ]
  },
  {
   "cell_type": "code",
   "execution_count": 4,
   "metadata": {},
   "outputs": [],
   "source": [
    "def print_metrics(pred_test, y_test, pred_train, y_train):\n",
    "    print(\"test accuracy\", str(np.mean(pred_test == y_test)))\n",
    "    print(\"train accuracy\", str(np.mean(pred_train == y_train)))\n",
    "    print(\"\\n Metrics and Confusion \\n\")\n",
    "    print(metrics.confusion_matrix(y_test, pred_test))\n",
    "    print(metrics.classification_report(y_test, pred_test))"
   ]
  },
  {
   "cell_type": "markdown",
   "metadata": {},
   "source": [
    "# Training"
   ]
  },
  {
   "cell_type": "code",
   "execution_count": 5,
   "metadata": {},
   "outputs": [
    {
     "name": "stdout",
     "output_type": "stream",
     "text": [
      "test accuracy 0.617038930005642\n",
      "train accuracy 0.6418412924157241\n",
      "\n",
      " Metrics and Confusion \n",
      "\n",
      "[[1373  383 1150  211  504]\n",
      " [ 525 1352 1309   91 1294]\n",
      " [ 448   87 8511   52  795]\n",
      " [ 422  196  991  452  272]\n",
      " [ 345  255 2184   25 6904]]\n",
      "              precision    recall  f1-score   support\n",
      "\n",
      "           0       0.44      0.38      0.41      3621\n",
      "           1       0.59      0.30      0.40      4571\n",
      "           2       0.60      0.86      0.71      9893\n",
      "           3       0.54      0.19      0.29      2333\n",
      "           4       0.71      0.71      0.71      9713\n",
      "\n",
      "    accuracy                           0.62     30131\n",
      "   macro avg       0.58      0.49      0.50     30131\n",
      "weighted avg       0.61      0.62      0.59     30131\n",
      "\n"
     ]
    }
   ],
   "source": [
    "pipeline = Pipeline([\n",
    "    (\"vect\", TfidfVectorizer()),\n",
    "    (\"chi\", SelectKBest(chi2, k=2000)),\n",
    "    (\"clf\", KNeighborsClassifier(n_neighbors = 25))\n",
    "])\n",
    "pipeline.fit(x_train, y_train)\n",
    "pred_train = pipeline.predict(x_train)\n",
    "pred_test = pipeline.predict(x_test)\n",
    "print_metrics(pred_test, y_test, pred_train, y_train)"
   ]
  },
  {
   "cell_type": "code",
   "execution_count": 8,
   "metadata": {},
   "outputs": [
    {
     "name": "stdout",
     "output_type": "stream",
     "text": [
      "test accuracy 0.5760512429059772\n",
      "train accuracy 0.6231694851225529\n",
      "\n",
      " Metrics and Confusion \n",
      "\n",
      "[[ 424  635 2159  269  134]\n",
      " [ 138 1715 2092   98  528]\n",
      " [  80  197 9062  109  445]\n",
      " [ 206  288 1106  666   67]\n",
      " [  34  550 3604   35 5490]]\n",
      "              precision    recall  f1-score   support\n",
      "\n",
      "           0       0.48      0.12      0.19      3621\n",
      "           1       0.51      0.38      0.43      4571\n",
      "           2       0.50      0.92      0.65      9893\n",
      "           3       0.57      0.29      0.38      2333\n",
      "           4       0.82      0.57      0.67      9713\n",
      "\n",
      "    accuracy                           0.58     30131\n",
      "   macro avg       0.58      0.45      0.46     30131\n",
      "weighted avg       0.61      0.58      0.55     30131\n",
      "\n"
     ]
    }
   ],
   "source": [
    "pipeline = Pipeline([\n",
    "    (\"vect\", TfidfVectorizer()),\n",
    "    (\"chi\", SelectKBest(chi2, k=2000)),\n",
    "    (\"clf\", DecisionTreeClassifier(max_depth = 25))\n",
    "])\n",
    "pipeline.fit(x_train, y_train)\n",
    "pred_train = pipeline.predict(x_train)\n",
    "pred_test = pipeline.predict(x_test)\n",
    "print_metrics(pred_test, y_test, pred_train, y_train)"
   ]
  },
  {
   "cell_type": "code",
   "execution_count": 10,
   "metadata": {},
   "outputs": [
    {
     "name": "stderr",
     "output_type": "stream",
     "text": [
      "/home/remo/anaconda3/envs/ml4h/lib/python3.9/site-packages/sklearn/neural_network/_multilayer_perceptron.py:692: ConvergenceWarning: Stochastic Optimizer: Maximum iterations (100) reached and the optimization hasn't converged yet.\n",
      "  warnings.warn(\n"
     ]
    },
    {
     "name": "stdout",
     "output_type": "stream",
     "text": [
      "test accuracy 0.7124224220902061\n",
      "train accuracy 0.9878280482655941\n",
      "\n",
      " Metrics and Confusion \n",
      "\n",
      "[[1875  636  310  645  155]\n",
      " [ 660 2734  259  296  622]\n",
      " [ 306  261 8162  244  920]\n",
      " [ 663  251  282 1064   73]\n",
      " [ 188  721 1086   87 7631]]\n",
      "              precision    recall  f1-score   support\n",
      "\n",
      "           0       0.51      0.52      0.51      3621\n",
      "           1       0.59      0.60      0.60      4571\n",
      "           2       0.81      0.83      0.82      9893\n",
      "           3       0.46      0.46      0.46      2333\n",
      "           4       0.81      0.79      0.80      9713\n",
      "\n",
      "    accuracy                           0.71     30131\n",
      "   macro avg       0.64      0.64      0.64     30131\n",
      "weighted avg       0.71      0.71      0.71     30131\n",
      "\n"
     ]
    }
   ],
   "source": [
    "pipeline = Pipeline([\n",
    "    (\"vect\", TfidfVectorizer()),\n",
    "    (\"chi\", SelectKBest(chi2, k=2000)),\n",
    "    (\"clf\", MLPClassifier(max_iter=100))\n",
    "])\n",
    "pipeline.fit(x_train, y_train)\n",
    "pred_train = pipeline.predict(x_train)\n",
    "pred_test = pipeline.predict(x_test)\n",
    "print_metrics(pred_test, y_test, pred_train, y_train)"
   ]
  },
  {
   "cell_type": "code",
   "execution_count": 21,
   "metadata": {},
   "outputs": [
    {
     "data": {
      "image/png": "[encoded data removed]",
      "text/plain": [
       "<Figure size 432x288 with 2 Axes>"
      ]
     },
     "metadata": {
      "needs_background": "light"
     },
     "output_type": "display_data"
    }
   ],
   "source": [
    "cf_matrix = metrics.confusion_matrix(y_test, pred_test)\n",
    "ax = sns.heatmap(cf_matrix/np.sum(cf_matrix), annot=True, \n",
    "            fmt='.2%', cmap='Blues')\n",
    "\n",
    "ax.set_title('Confusion matrix MLP\\n');\n",
    "ax.set_xlabel('\\nPredicted Category')\n",
    "ax.set_ylabel('Actual Category ');\n",
    "\n",
    "## Ticket labels - List must be in alphabetical order\n",
    "ax.xaxis.set_ticklabels(['Background', 'Conclusions', 'Methods', 'Objective', 'Results'], rotation=30)\n",
    "ax.yaxis.set_ticklabels(['Background', 'Conclusions', 'Methods', 'Objective', 'Results'], rotation=30)\n",
    "\n",
    "## Display the visualization of the Confusion Matrix.\n",
    "plt.show()"
   ]
  },
  {
   "cell_type": "code",
   "execution_count": 27,
   "metadata": {},
   "outputs": [
    {
     "data": {
      "text/plain": [
       "METHODS        59323\n",
       "RESULTS        57950\n",
       "CONCLUSIONS    27165\n",
       "BACKGROUND     21727\n",
       "OBJECTIVE      13839\n",
       "Name: labels, dtype: int64"
      ]
     },
     "execution_count": 27,
     "metadata": {},
     "output_type": "execute_result"
    }
   ],
   "source": [
    "df_train[\"labels\"].value_counts()"
   ]
  }
 ],
 "metadata": {
  "interpreter": {
   "hash": "839a46e1465077c84b39be122588b4a3bd8a9d0460a9ee420f218244ce5714a7"
  },
  "kernelspec": {
   "display_name": "Python 3.9.7 ('ml4h')",
   "language": "python",
   "name": "python3"
  },
  "language_info": {
   "codemirror_mode": {
    "name": "ipython",
    "version": 3
   },
   "file_extension": ".py",
   "mimetype": "text/x-python",
   "name": "python",
   "nbconvert_exporter": "python",
   "pygments_lexer": "ipython3",
   "version": "3.9.12"
  },
  "orig_nbformat": 4
 },
 "nbformat": 4,
 "nbformat_minor": 2
}
