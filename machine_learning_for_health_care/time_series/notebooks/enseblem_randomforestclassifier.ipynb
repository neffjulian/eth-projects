{
  "nbformat": 4,
  "nbformat_minor": 0,
  "metadata": {
    "colab": {
      "name": "assignment_1.ipynb",
      "provenance": [],
      "collapsed_sections": []
    },
    "kernelspec": {
      "name": "python3",
      "display_name": "Python 3"
    },
    "language_info": {
      "name": "python"
    },
    "accelerator": "GPU"
  },
  "cells": [
    {
      "cell_type": "code",
      "source": [
        "import os\n",
        "import sys\n",
        "module_path = os.path.abspath(os.path.join('..'))\n",
        "if module_path not in sys.path:\n",
        "    sys.path.append(module_path)\n",
        "\n",
        "import pandas as pd\n",
        "import numpy as np\n",
        "from sklearn.ensemble import RandomForestClassifier\n",
        "from sklearn.metrics import accuracy_score, f1_score\n",
        "\n",
        "from src.dataset import MITDataModule\n",
        "from src.model import RNNModel\n",
        "\n",
        "\n",
        "df_train = pd.read_csv(\"../data/mitbih_train.csv\", header=None)\n",
        "df_test = pd.read_csv(\"../data/mitbih_test.csv\", header=None)\n",
        "\n",
        "df_train.replace([np.inf, -np.inf], np.nan, inplace=True)\n",
        "df_test.replace([np.inf, -np.inf], np.nan, inplace=True)\n",
        "df_train.dropna(inplace=True)\n",
        "df_test.dropna(inplace=True)\n",
        "\n",
        "X_train, y_train = df_train.iloc[: , :-1], df_train.iloc[: , -1]\n",
        "X_test, y_test = df_test.iloc[: , :-1], df_test.iloc[: , -1]"
      ],
      "metadata": {
        "id": "GV6L8Z4uYN10"
      },
      "execution_count": 2,
      "outputs": []
    },
    {
      "cell_type": "code",
      "source": [
        "#Create Model\n",
        "model = RandomForestClassifier()"
      ],
      "metadata": {
        "id": "j10EUeV7fu6i"
      },
      "execution_count": 3,
      "outputs": []
    },
    {
      "cell_type": "code",
      "source": [
        "# Classes:\n",
        "# ['N': 0, 'S': 1, 'V': 2, 'F': 3, 'Q': 4]\n",
        "model = model.fit(X_train, y_train)\n",
        "\n",
        "#Predict the response for test dataset\n",
        "y_pred_test = model.predict(X_test)\n",
        "y_pred_train = model.predict(X_train)"
      ],
      "metadata": {
        "id": "5WVGDMezeB-T"
      },
      "execution_count": 4,
      "outputs": []
    },
    {
      "cell_type": "code",
      "source": [
        "print(\"Training Accuracy:\", accuracy_score(y_train, y_pred_train))\n",
        "print(\"Testing Accuracy:\", accuracy_score(y_test, y_pred_test))\n",
        "print(\"Training F1:\", f1_score(y_train, y_pred_train, average='micro'))\n",
        "print(\"Testing F1:\", f1_score(y_test, y_pred_test, average='micro'))"
      ],
      "metadata": {
        "colab": {
          "base_uri": "https://localhost:8080/"
        },
        "id": "-7BHSHTOdW7e",
        "outputId": "6cff7a0b-f916-430a-bfbc-724a0b16cc33"
      },
      "execution_count": 5,
      "outputs": [
        {
          "output_type": "stream",
          "name": "stdout",
          "text": [
            "Training Accuracy: 0.9999885784772826\n",
            "Testing Accuracy: 0.9740087703270601\n",
            "Training F1: 0.9999885784772826\n",
            "Testing F1: 0.9740087703270601\n"
          ]
        }
      ]
    },
    {
      "cell_type": "code",
      "source": [
        ""
      ],
      "metadata": {
        "id": "4dTIHP9UoX83"
      },
      "execution_count": null,
      "outputs": []
    }
  ]
}